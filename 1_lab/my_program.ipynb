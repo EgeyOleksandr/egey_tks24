{
 "cells": [
  {
   "cell_type": "markdown",
   "metadata": {},
   "source": [
    "# Моя перша програма"
   ]
  },
  {
   "cell_type": "code",
   "execution_count": 1,
   "metadata": {},
   "outputs": [
    {
     "name": "stdout",
     "output_type": "stream",
     "text": [
      "Roman) start programming at 2022-08-29 11:15:33.036980\n"
     ]
    }
   ],
   "source": [
    "from datetime import datetime\n",
    "name = \"Oleksandr\"\n",
    "\n",
    "print(f\"{name}) start programming at {datetime.now()}\")"
   ]
  }
 ],
 "metadata": {
  "kernelspec": {
   "display_name": "Python 3.11.0 64-bit",
   "language": "python",
   "name": "python3"
  },
  "language_info": {
   "codemirror_mode": {
    "name": "ipython",
    "version": 3
   },
   "file_extension": ".py",
   "mimetype": "text/x-python",
   "name": "python",
   "nbconvert_exporter": "python",
   "pygments_lexer": "ipython3",
   "version": "3.11.0"
  },
  "orig_nbformat": 4,
  "vscode": {
   "interpreter": {
    "hash": "44bbac1d55f4e001419521afeaa959fd7d3bfb1bece7adcf67657b8ac6c367d0"
   }
  }
 },
 "nbformat": 4,
 "nbformat_minor": 2
}
